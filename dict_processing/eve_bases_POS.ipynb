{
  "nbformat": 4,
  "nbformat_minor": 0,
  "metadata": {
    "colab": {
      "name": "eve_bases_POS.ipynb",
      "provenance": [],
      "collapsed_sections": []
    },
    "kernelspec": {
      "name": "python3",
      "display_name": "Python 3"
    },
    "language_info": {
      "name": "python"
    }
  },
  "cells": [
    {
      "cell_type": "code",
      "source": [
        "! pip install -U spacy>=3.0"
      ],
      "metadata": {
        "id": "eUJrnoUH5lqi"
      },
      "execution_count": null,
      "outputs": []
    },
    {
      "cell_type": "code",
      "source": [
        "!python -m spacy download ru_core_news_md"
      ],
      "metadata": {
        "id": "5Cxf4EgE5y2u"
      },
      "execution_count": null,
      "outputs": []
    },
    {
      "cell_type": "code",
      "source": [
        "import spacy"
      ],
      "metadata": {
        "id": "S6fLDltG6Mfv"
      },
      "execution_count": null,
      "outputs": []
    },
    {
      "cell_type": "code",
      "source": [
        "nlp = spacy.load('ru_core_news_md')"
      ],
      "metadata": {
        "id": "Hxh0djuL56ho"
      },
      "execution_count": null,
      "outputs": []
    },
    {
      "cell_type": "code",
      "execution_count": 1,
      "metadata": {
        "id": "4ymB5j2kxDs7"
      },
      "outputs": [],
      "source": [
        "import re\n",
        "import pandas as pd\n",
        "from collections import Counter, OrderedDict"
      ]
    },
    {
      "cell_type": "code",
      "source": [
        "TRANSLIT_TABLE = {\"дя\" : \"d'a\",\n",
        "    \"тя\" : \"t'a\",\n",
        "    \"ня\" : \"n'a\",\n",
        "    \"де\" : \"d'e\",\n",
        "    \"те\" : \"t'e\",\n",
        "    \"че\" : \"če\",\n",
        "    \"не\" : \"n'e\",\n",
        "    \"дю\" : \"d'u\",\n",
        "    \"тю\" : \"t'u\",\n",
        "    \"ню\" : \"n'u\",\n",
        "    \"дё\" : \"d'o\",\n",
        "    \"тё\" : \"t'o\",\n",
        "    \"нё\" : \"n'o\",\n",
        "    \"сё\" : \"s'o\",\n",
        "    \"ди\" : \"d'i\",\n",
        "    \"а\" : \"a\",\n",
        "    \"б\" : \"b\",\n",
        "    \"в\" : \"w\",\n",
        "    \"ҕ\" : \"γ\",\n",
        "    \"г\" : \"g\",\n",
        "    \"дь\" : \"d'\",\n",
        "    \"ть\" : \"t'\",\n",
        "    \"д\" : \"d\",\n",
        "    \"ж\" : \"ž\",\n",
        "    \"з\" : \"z\",\n",
        "    \"и\" : \"i\",\n",
        "    \"й\" : \"j\",\n",
        "    \"ӄ\" : \"q\",\n",
        "    \"к\" : \"k\",\n",
        "    \"ль\" : \"l'\",\n",
        "    \"л\" : \"l\",\n",
        "    \"м\" : \"m\",\n",
        "    \"нь\" : \"n'\",\n",
        "    \"н\" : \"n\",\n",
        "    \"ӈ\" : \"ŋ\",\n",
        "    \"о\" : \"o\",\n",
        "    \"п\" : \"p\",\n",
        "    \"р\" : \"r\",\n",
        "    \"с\" : \"s\",\n",
        "    \"т\" : \"t\",\n",
        "    \"у\" : \"u\",\n",
        "    \"ф\" : \"f\",\n",
        "    \"ч\" : \"č\",\n",
        "    \"ц\" : \"c\",\n",
        "    \"ш\" : \"š\",\n",
        "    \"щ\" : \"š'\",\n",
        "    \"ы\" : \"ɨ\",\n",
        "    \"э\" : \"e\",\n",
        "    \"ья\" : \"ja\",\n",
        "    \"ью\" : \"ju\",\n",
        "    \"ъе\" : \"je\",\n",
        "    \"ъя\" : \"ja\",\n",
        "    \"ъю\" : \"ju\",\n",
        "    \"ю\" : \"ju\",\n",
        "    \"я\" : \"ja\",\n",
        "    \"е\" : \"je\",\n",
        "    \"ъ\" : \"\",\n",
        "    \"ь\" : \"'\",\n",
        "    \".\" : \".\",\n",
        "    \",\" : \",\",\n",
        "    \"?\" : \"?\",\n",
        "    \"!\" : \"!\",\n",
        "    \"-\" : \"-\",\n",
        "    }\n",
        "\n",
        "translit = OrderedDict(TRANSLIT_TABLE)\n",
        "vowels = {\"е\":\"\\'e\", \"я\":\"\\'a\", \"ю\":\"\\'u\", \"ё\":\"\\'o\"}"
      ],
      "metadata": {
        "id": "T33ix6wQZ4CX"
      },
      "execution_count": 2,
      "outputs": []
    },
    {
      "cell_type": "code",
      "source": [
        "TRANSLIT_TABLE = {\"дя\" : \"ďa\",\n",
        "    \"тя\" : \"ťa\",\n",
        "    \"ня\" : \"n'a\",\n",
        "    \"де\" : \"ďe\",\n",
        "    \"те\" : \"ťe\",\n",
        "    \"не\" : \"n'e\",\n",
        "    \"дю\" : \"ďu\",\n",
        "    \"тю\" : \"ťu\",\n",
        "    \"ню\" : \"n'u\",\n",
        "    \"дё\" : \"ďo\",\n",
        "    \"тё\" : \"ťo\",\n",
        "    \"нё\" : \"n'o\",\n",
        "    \"сё\" : \"s'o\",\n",
        "    \"ди\" : \"ďi\",\n",
        "    \"а\" : \"a\",\n",
        "    \"б\" : \"b\",\n",
        "    \"в\" : \"w\",\n",
        "    \"ҕ\" : \"γ\",\n",
        "    \"г\" : \"g\",\n",
        "    \"дь\" : \"ď\",\n",
        "    \"ть\" : \"ť\",\n",
        "    \"д\" : \"d\",\n",
        "    \"ье\" : \"je\",\n",
        "    \"е\" : \"je\",\n",
        "    \"ё\" : \"jo\",\n",
        "    \"ж\" : \"ž\",\n",
        "    \"з\" : \"z\",\n",
        "    \"и\" : \"i\",\n",
        "    \"й\" : \"j\",\n",
        "    \"ӄ\" : \"q\",\n",
        "    \"к\" : \"k\",\n",
        "    \"ль\" : \"l\",\n",
        "    \"л’\" : \"l\",\n",
        "    \"л\" : \"l\",\n",
        "    \"м\" : \"m\",\n",
        "    \"нь\" : \"n'\",\n",
        "    \"н\" : \"n\",\n",
        "    \"ӈ\" : \"ŋ\",\n",
        "    \"о\" : \"o\",\n",
        "    \"ө\": \"ɵ\",\n",
        "    \"п\" : \"p\",\n",
        "    \"р\" : \"r\",\n",
        "    \"с\" : \"s\",\n",
        "    \"т\" : \"t\",\n",
        "    \"у\" : \"u\",\n",
        "    \"ч\" : \"č\",\n",
        "    \"ь\" : \"'\",\n",
        "    \"ш\" : \"š\",\n",
        "    \"щ\" : \"š'\",\n",
        "    \"ы\" : \"ɨ\",\n",
        "    \"э\" : \"e\",\n",
        "    \"ья\" : \"ja\",\n",
        "    \"ью\" : \"ju\",\n",
        "    \"ю\" : \"ju\",\n",
        "    \"я\" : \"ja\",\n",
        "    \".\" : \".\",\n",
        "    \",\" : \",\",\n",
        "    \"?\" : \"?\",\n",
        "    \"!\" : \"!\",\n",
        "    \"-\" : \"-\",\n",
        "    }\n",
        "\n",
        "translit = OrderedDict(TRANSLIT_TABLE)\n",
        "vowels = {\"е\":\"\\'e\", \"я\":\"\\'a\", \"ю\":\"\\'u\", \"ё\":\"\\'o\"}"
      ],
      "metadata": {
        "id": "a2UwnGr90KRm"
      },
      "execution_count": 8,
      "outputs": []
    },
    {
      "cell_type": "code",
      "source": [
        "def transliterate(string, translit, vowels):\n",
        "    pattern = re.compile(r'(?<=[врпсгклзцвбмшжӈҕӄВРПСГКЛЗЦВБМШЖӇӃҔ])[еяюё]')\n",
        "    string = pattern.sub(lambda x:vowels[x.group()], string)\n",
        "    for cyr, ipa in translit.items():\n",
        "        string = string.replace(cyr, ipa).replace(cyr.title(), ipa.title())\n",
        "    return string"
      ],
      "metadata": {
        "id": "voQFAYY80G52"
      },
      "execution_count": 9,
      "outputs": []
    },
    {
      "cell_type": "code",
      "source": [
        "df = pd.read_csv('eve_base_translation.csv', delimiter=',')"
      ],
      "metadata": {
        "id": "yu4Yc2WLxnai"
      },
      "execution_count": null,
      "outputs": []
    },
    {
      "cell_type": "code",
      "source": [
        "df['base_lat'] =0\n",
        "df['POS'] = 0\n",
        "for index, row in df.iterrows():\n",
        "    base = row['base_new'].replace('̄', '')\n",
        "    df['base_lat'].loc[index] = transliterate(base, translit, vowels)\n",
        "    if row['base_new'].endswith('-'):\n",
        "        df['POS'].loc[index] = 'verb'\n",
        "    else:\n",
        "        df['POS'].loc[index] = nlp(row['transl'].split('.')[0])[0].pos_.lower()"
      ],
      "metadata": {
        "colab": {
          "base_uri": "https://localhost:8080/"
        },
        "id": "mS07LuEMySXn",
        "outputId": "d3fdcf4b-f48c-4fa9-c7bf-42a35a674473"
      },
      "execution_count": null,
      "outputs": [
        {
          "output_type": "stream",
          "name": "stderr",
          "text": [
            "/usr/local/lib/python3.7/dist-packages/pandas/core/indexing.py:1732: SettingWithCopyWarning: \n",
            "A value is trying to be set on a copy of a slice from a DataFrame\n",
            "\n",
            "See the caveats in the documentation: https://pandas.pydata.org/pandas-docs/stable/user_guide/indexing.html#returning-a-view-versus-a-copy\n",
            "  self._setitem_single_block(indexer, value, name)\n"
          ]
        }
      ]
    },
    {
      "cell_type": "code",
      "source": [
        "df.to_csv('base_POS.csv')"
      ],
      "metadata": {
        "id": "ZPu3mROI6ZD3"
      },
      "execution_count": null,
      "outputs": []
    }
  ]
}