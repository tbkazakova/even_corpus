{
  "nbformat": 4,
  "nbformat_minor": 0,
  "metadata": {
    "colab": {
      "name": "text2annotated.ipynb",
      "provenance": [],
      "collapsed_sections": []
    },
    "kernelspec": {
      "name": "python3",
      "display_name": "Python 3"
    },
    "language_info": {
      "name": "python"
    }
  },
  "cells": [
    {
      "cell_type": "markdown",
      "source": [
        "Берёт текст, аннотирует с помощью словаря разборов, сохраняет в формате:\n",
        "\n",
        "- 1.\n",
        "- Строка предложения\n",
        "- Строка со словами, поделёнными на предложения\n",
        "- Строка глосс\n",
        "- Перевод"
      ],
      "metadata": {
        "id": "iQ-UhIP9w_Nk"
      }
    },
    {
      "cell_type": "code",
      "source": [
        "pip install razdel"
      ],
      "metadata": {
        "colab": {
          "base_uri": "https://localhost:8080/"
        },
        "id": "ifmqrhS9QNMa",
        "outputId": "1392b335-1c7c-4311-d842-863f2c1e2848"
      },
      "execution_count": 2,
      "outputs": [
        {
          "output_type": "stream",
          "name": "stdout",
          "text": [
            "Looking in indexes: https://pypi.org/simple, https://us-python.pkg.dev/colab-wheels/public/simple/\n",
            "Collecting razdel\n",
            "  Downloading razdel-0.5.0-py3-none-any.whl (21 kB)\n",
            "Installing collected packages: razdel\n",
            "Successfully installed razdel-0.5.0\n"
          ]
        }
      ]
    },
    {
      "cell_type": "code",
      "execution_count": 3,
      "metadata": {
        "id": "hr2TnGlhYlHZ"
      },
      "outputs": [],
      "source": [
        "import os\n",
        "import re\n",
        "from razdel import sentenize\n",
        "from collections import Counter, OrderedDict\n",
        "import pandas as pd"
      ]
    },
    {
      "cell_type": "code",
      "source": [
        "PUNCTUATION = \"!\\\"”“‘’#$%&'()*+, -—./:;<=>?@[\\]^_`{|}~«»\""
      ],
      "metadata": {
        "id": "Qa94gOfQQQRf"
      },
      "execution_count": 4,
      "outputs": []
    },
    {
      "cell_type": "code",
      "source": [
        "df = pd.read_csv('newspaper_glossing_10.csv', delimiter=';')"
      ],
      "metadata": {
        "id": "gErWNPrvbFXT"
      },
      "execution_count": 32,
      "outputs": []
    },
    {
      "cell_type": "code",
      "source": [
        "dict_w_p_g = {}\n",
        "for index, row in df[:4].iterrows():\n",
        "    if isinstance(row['glosses'], str):\n",
        "        if isinstance(row['parts'], str):\n",
        "            dict_w_p_g[row['word']] = [row['parts'], row['glosses']]"
      ],
      "metadata": {
        "id": "wv1OWIL0bKjI"
      },
      "execution_count": 45,
      "outputs": []
    },
    {
      "cell_type": "code",
      "source": [
        "TRANSLIT_TABLE = {\"дя\" : \"d'a\",\n",
        "    \"тя\" : \"t'a\",\n",
        "    \"ня\" : \"n'a\",\n",
        "    \"де\" : \"d'e\",\n",
        "    \"те\" : \"t'e\",\n",
        "    \"че\" : \"če\",\n",
        "    \"не\" : \"n'e\",\n",
        "    \"фе\" : \"f'e\",\n",
        "    \"дю\" : \"d'u\",\n",
        "    \"тю\" : \"t'u\",\n",
        "    \"ню\" : \"n'u\",\n",
        "    \"дё\" : \"d'o\",\n",
        "    \"тё\" : \"t'o\",\n",
        "    \"нё\" : \"n'o\",\n",
        "    \"сё\" : \"s'o\",\n",
        "    \"ди\" : \"d'i\",\n",
        "    \"а\" : \"a\",\n",
        "    \"б\" : \"b\",\n",
        "    \"в\" : \"w\",\n",
        "    \"ҕ\" : \"γ\",\n",
        "    \"г\" : \"g\",\n",
        "    \"дь\" : \"d'\",\n",
        "    \"ть\" : \"t'\",\n",
        "    \"д\" : \"d\",\n",
        "    \"ж\" : \"ž\",\n",
        "    \"з\" : \"z\",\n",
        "    \"и\" : \"i\",\n",
        "    \"й\" : \"j\",\n",
        "    \"ӄ\" : \"q\",\n",
        "    \"к\" : \"k\",\n",
        "    \"ль\" : \"l'\",\n",
        "    \"л\" : \"l\",\n",
        "    \"м\" : \"m\",\n",
        "    \"нь\" : \"n'\",\n",
        "    \"н\" : \"n\",\n",
        "    \"ӈ\" : \"ŋ\",\n",
        "    \"о\" : \"o\",\n",
        "    \"п\" : \"p\",\n",
        "    \"р\" : \"r\",\n",
        "    \"с\" : \"s\",\n",
        "    \"т\" : \"t\",\n",
        "    \"у\" : \"u\",\n",
        "    \"ф\" : \"f\",\n",
        "    \"ч\" : \"č\",\n",
        "    \"ц\" : \"c\",\n",
        "    \"ш\" : \"š\",\n",
        "    \"щ\" : \"š'\",\n",
        "    \"ы\" : \"ə\",\n",
        "    \"э\" : \"e\",\n",
        "    \"ья\" : \"ja\",\n",
        "    \"ью\" : \"ju\",\n",
        "    \"ъе\" : \"je\",\n",
        "    \"ъя\" : \"ja\",\n",
        "    \"ъю\" : \"ju\",\n",
        "    \"ю\" : \"ju\",\n",
        "    \"я\" : \"ja\",\n",
        "    \"е\" : \"je\",\n",
        "    \"ъ\" : \"\",\n",
        "    \"ь\" : \"'\",\n",
        "    \".\" : \".\",\n",
        "    \",\" : \",\",\n",
        "    \"?\" : \"?\",\n",
        "    \"!\" : \"!\",\n",
        "    \"-\" : \"-\",\n",
        "    }\n",
        "\n",
        "translit = OrderedDict(TRANSLIT_TABLE)\n",
        "vowels = {\"е\":\"\\'e\", \"я\":\"\\'a\", \"ю\":\"\\'u\", \"ё\":\"\\'o\"}"
      ],
      "metadata": {
        "id": "WaP6lgftQcQv"
      },
      "execution_count": 5,
      "outputs": []
    },
    {
      "cell_type": "code",
      "source": [
        "def transliterate(string, translit, vowels):\n",
        "    pattern = re.compile(r'(?<=[врпсгклзцвбмшжӈҕӄВРПСГКЛЗЦВБМШЖӇӃҔ])[еяюё]')\n",
        "    string = pattern.sub(lambda x:vowels[x.group()], string)\n",
        "    for cyr, ipa in translit.items():\n",
        "        string = string.replace(cyr, ipa).replace(cyr.title(), ipa.title())\n",
        "    return string\n",
        "    \n",
        "def simple_symbols(string):\n",
        "    string = string.replace('γ','g').replace('q','k')\n",
        "    return string"
      ],
      "metadata": {
        "id": "H3rqprgJQfb-"
      },
      "execution_count": 46,
      "outputs": []
    },
    {
      "cell_type": "code",
      "source": [
        "filenames = []\n",
        "file_list = os.listdir('data')\n",
        "for filename in file_list:\n",
        "    if \"_eve\" in filename:\n",
        "        filenames.append(filename)\n",
        "\n",
        "\n",
        "for filename in filenames:\n",
        "    info = []\n",
        "    path = 'data/'+filename\n",
        "    with open(path, encoding=\"utf-8\") as f:\n",
        "        text = f.read()\n",
        "    sentences = []\n",
        "    for prgraph in text.split('\\n'):\n",
        "        for sent in list(sentenize(prgraph)):\n",
        "            sentences.append(sent.text)\n",
        "    sentences = [sent for sent in sentences if sent != '']  # получили предложения\n",
        "    for id_sent, sent in enumerate(sentences):\n",
        "        id_line = str(id_sent) + '.'\n",
        "        words = sent.split()\n",
        "        gloss_sent = []\n",
        "        parts_sent = []\n",
        "        for word in words:\n",
        "            if word.strip(PUNCTUATION) != '':\n",
        "                to_analyse = simple_symbols(transliterate(word.strip(PUNCTUATION).lower(),\n",
        "                                       translit, vowels))\n",
        "                if to_analyse in dict_w_p_g:\n",
        "                    parts_sent.append(dict_w_p_g[to_analyse][0])\n",
        "                    gloss_sent.append(dict_w_p_g[to_analyse][1])\n",
        "                else:\n",
        "                    parts_sent.append(str(to_analyse))\n",
        "                    gloss_sent.append('IDK')\n",
        "            else:\n",
        "                words.remove(word)\n",
        "        if id_sent == 0:\n",
        "            id_line = id_line + ' ' + filename.strip('_eve')\n",
        "        info.append([id_line, sent, ' '.join(parts_sent),\n",
        "                     ' '.join(gloss_sent), 'Перевод появится'])\n",
        "        new_filename = 'annotated/' + filename + '_annotated'\n",
        "    with open(new_filename, 'w', encoding=\"utf-8\") as filen:\n",
        "        for infosent in info:\n",
        "            for infoline in infosent:\n",
        "                filen.write(infoline)\n",
        "                filen.write('\\n')"
      ],
      "metadata": {
        "id": "eVWkpep_Qonu"
      },
      "execution_count": null,
      "outputs": []
    }
  ]
}