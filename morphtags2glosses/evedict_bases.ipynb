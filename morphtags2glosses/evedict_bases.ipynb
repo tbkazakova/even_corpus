{
 "cells": [
  {
   "cell_type": "code",
   "execution_count": 12,
   "id": "e90d5ae5",
   "metadata": {},
   "outputs": [],
   "source": [
    "import re"
   ]
  },
  {
   "cell_type": "code",
   "execution_count": 89,
   "id": "dbf0d978",
   "metadata": {},
   "outputs": [],
   "source": [
    "import pandas as pd"
   ]
  },
  {
   "cell_type": "code",
   "execution_count": 36,
   "id": "6d2e0bf7",
   "metadata": {},
   "outputs": [],
   "source": [
    "punctuation = '''!#$%&*+, -./:;=?@\\^_`|~'''"
   ]
  },
  {
   "cell_type": "code",
   "execution_count": 381,
   "id": "21fb3c9e",
   "metadata": {},
   "outputs": [],
   "source": [
    "with open(\"Evendsl.txt\", \"r\", encoding=\"utf-8\") as f:\n",
    "    lines = f.readlines()"
   ]
  },
  {
   "cell_type": "code",
   "execution_count": 382,
   "id": "230ccee8",
   "metadata": {},
   "outputs": [],
   "source": [
    "dictlines = []\n",
    "for i in range(len(lines)):\n",
    "    if (i+1)%2 == 0:\n",
    "        dictlines.append(lines[i].strip())"
   ]
  },
  {
   "cell_type": "code",
   "execution_count": 383,
   "id": "cadc39d6",
   "metadata": {},
   "outputs": [],
   "source": [
    "comments = ['междом.', 'тотем.', '(фолькл.)', 'фолькл.', 'обращ.', 'зап.', 'иносказ.',\n",
    "            'собств.', 'образн.', 'устар.', 'изобр.', '(< рус.)', 'ласк.']\n",
    "def get_word_meaning(sent):\n",
    " \n",
    "    pattern = '(?P<word>(.+?))(\\s(I*?)(,)*)*\\s(\\(.+?\\))*(?P<sec_part>[^(].+)'\n",
    "    result = re.search(pattern, sent)\n",
    "    if result:  # получили первое слово и остальное\n",
    "        meaning = result.group('sec_part')\n",
    "        for comment in comments:\n",
    "            meaning = meaning.replace(comment, '')\n",
    "        meaning = meaning.strip(',')\n",
    "        meaning = meaning.strip()\n",
    "        base = result.group('word').strip(',')\n",
    "        base = base.lower()\n",
    "        pattern_transl = '(\\([а-яё].+?\\))*([0-9]\\)\\s)*(?P<transl>([а-яё]+))'\n",
    "        result2 = re.search(pattern_transl, meaning)\n",
    "        if result2:  # получили первое слово маленькими буквами из определения\n",
    "            transl = result2.group('transl')\n",
    "            return [result.group('word').strip(punctuation), result.group('sec_part'), base.strip(punctuation), transl]\n",
    "\n",
    "    return sent"
   ]
  },
  {
   "cell_type": "code",
   "execution_count": 384,
   "id": "aac51b62",
   "metadata": {},
   "outputs": [],
   "source": [
    "lines_data = []\n",
    "for dictline in dictlines:\n",
    "    lines_data.append(get_word_meaning(dictline))\n",
    "df = pd.DataFrame(lines_data, columns = ['word', 'sec_part', 'base', 'transl'])"
   ]
  },
  {
   "cell_type": "code",
   "execution_count": 385,
   "id": "fdb120f9",
   "metadata": {},
   "outputs": [],
   "source": [
    "# Даём первеводы тому, где \"см. другое_слово\"\n",
    "for index, row in df.iterrows():\n",
    "    if row['transl'] == 'см':\n",
    "        try:\n",
    "            sinonim = row['sec_part'][4:].strip(punctuation)\n",
    "            row['transl'] = df.loc[df.word == sinonim.upper()]['transl'].values[0]\n",
    "        except Exception:\n",
    "            sinonim = 0\n",
    "            for word in row['sec_part'][4:].strip(punctuation).split(' '):\n",
    "                if word.islower():\n",
    "                    if word != 'см.':\n",
    "                        sinonim = word.strip(punctuation)\n",
    "                        break\n",
    "            row['transl'] = df.loc[df.word == sinonim.upper()]['transl'].values[0]"
   ]
  },
  {
   "cell_type": "code",
   "execution_count": 386,
   "id": "0226acc5",
   "metadata": {},
   "outputs": [],
   "source": [
    "# Добавляем 2е-4е слова заглавными буквами\n",
    "for index, row in df.iterrows():\n",
    "    pattern = '(?P<word>(.+?))\\s(\\(.+?\\)\\s)*(\\(.+?\\)\\s)*(?P<sec_part>[^(].+)'\n",
    "   \n",
    "    result = re.search(pattern, row['sec_part'])\n",
    "    if result:\n",
    "        if result.group('word').isupper():\n",
    "            df.loc[len(df.index)] = [result.group('word').strip(punctuation), row['sec_part'], result.group('word').strip(punctuation).lower(), row['transl']]\n",
    "            \n",
    "            result2 = re.search(pattern, result.group('sec_part'))\n",
    "            if result2:\n",
    "                if result2.group('word').strip(punctuation).isupper():\n",
    "                    df.loc[len(df.index)] = [result2.group('word').strip(punctuation), row['sec_part'], result2.group('word').strip(punctuation).lower(), row['transl']]\n",
    "                    \n",
    "                    result3 = re.search(pattern, result2.group('sec_part'))\n",
    "                    if result3:\n",
    "                        if result3.group('word').isupper():\n",
    "                            df.loc[len(df.index)] = [result3.group('word'), row['sec_part'], result3.group('word').lower(), row['transl']]"
   ]
  },
  {
   "cell_type": "code",
   "execution_count": 387,
   "id": "65d7b191",
   "metadata": {},
   "outputs": [],
   "source": [
    "# Убираем часть морфологии\n",
    "for index, row in df.iterrows():\n",
    "    if row['base'].startswith('х'):  # убрали х в начале\n",
    "        row['base'] = row['base'][1:]\n",
    "    if row['base'].endswith('ай') or row['base'].endswith('эй'): # у глаголов забрали -purp-...\n",
    "        if len(row['base']) > 3:\n",
    "            row['base'] = row['base'][:-3]+'-'\n"
   ]
  },
  {
   "cell_type": "code",
   "execution_count": 389,
   "id": "f091d09b",
   "metadata": {},
   "outputs": [
    {
     "data": {
      "text/html": [
       "<div>\n",
       "<style scoped>\n",
       "    .dataframe tbody tr th:only-of-type {\n",
       "        vertical-align: middle;\n",
       "    }\n",
       "\n",
       "    .dataframe tbody tr th {\n",
       "        vertical-align: top;\n",
       "    }\n",
       "\n",
       "    .dataframe thead th {\n",
       "        text-align: right;\n",
       "    }\n",
       "</style>\n",
       "<table border=\"1\" class=\"dataframe\">\n",
       "  <thead>\n",
       "    <tr style=\"text-align: right;\">\n",
       "      <th></th>\n",
       "      <th>word</th>\n",
       "      <th>sec_part</th>\n",
       "      <th>base</th>\n",
       "      <th>transl</th>\n",
       "    </tr>\n",
       "  </thead>\n",
       "  <tbody>\n",
       "    <tr>\n",
       "      <th>0</th>\n",
       "      <td>А̄-А</td>\n",
       "      <td>междом., крик при легком испуге, удивлении.  А...</td>\n",
       "      <td>а̄-а</td>\n",
       "      <td>крик</td>\n",
       "    </tr>\n",
       "    <tr>\n",
       "      <th>1</th>\n",
       "      <td>АБА</td>\n",
       "      <td>обращ. зап. папа, отец (в языке детей); ср. ам...</td>\n",
       "      <td>аба</td>\n",
       "      <td>папа</td>\n",
       "    </tr>\n",
       "    <tr>\n",
       "      <th>2</th>\n",
       "      <td>АБА</td>\n",
       "      <td>АБАЛКАН так говорят дети про что-л. красивое.</td>\n",
       "      <td>аба</td>\n",
       "      <td>так</td>\n",
       "    </tr>\n",
       "    <tr>\n",
       "      <th>3</th>\n",
       "      <td>АБАГА</td>\n",
       "      <td>тотем. 1) дедушка (медведь); 2) зап. дед; ср. ...</td>\n",
       "      <td>абага</td>\n",
       "      <td>дедушка</td>\n",
       "    </tr>\n",
       "    <tr>\n",
       "      <th>4</th>\n",
       "      <td>АБАЛ</td>\n",
       "      <td>мало, нехватка, дешево (о цене); ср. адыкун.  ...</td>\n",
       "      <td>абал</td>\n",
       "      <td>мало</td>\n",
       "    </tr>\n",
       "    <tr>\n",
       "      <th>...</th>\n",
       "      <td>...</td>\n",
       "      <td>...</td>\n",
       "      <td>...</td>\n",
       "      <td>...</td>\n",
       "    </tr>\n",
       "    <tr>\n",
       "      <th>15053</th>\n",
       "      <td>Я̄НЮЧ</td>\n",
       "      <td>Я̄НЮЧ (совм. п. от мест. я̄к) с кем, с чем.</td>\n",
       "      <td>я̄нюч</td>\n",
       "      <td>совм</td>\n",
       "    </tr>\n",
       "    <tr>\n",
       "      <th>15054</th>\n",
       "      <td>ЯРИМКАР</td>\n",
       "      <td>ЯРИМКАР камни, образовавшиеся от разрушения скал.</td>\n",
       "      <td>яримкар</td>\n",
       "      <td>камни</td>\n",
       "    </tr>\n",
       "    <tr>\n",
       "      <th>15055</th>\n",
       "      <td>Я̄РУЧИН</td>\n",
       "      <td>Я̄РУЧИН, Я̄РУЧИНМАЙ 1) проверка, осмотр, обсле...</td>\n",
       "      <td>я̄ручин</td>\n",
       "      <td>проверка</td>\n",
       "    </tr>\n",
       "    <tr>\n",
       "      <th>15056</th>\n",
       "      <td>Я̄РУЧИНМАЙ</td>\n",
       "      <td>Я̄РУЧИН, Я̄РУЧИНМАЙ 1) проверка, осмотр, обсле...</td>\n",
       "      <td>я̄ручин-</td>\n",
       "      <td>проверка</td>\n",
       "    </tr>\n",
       "    <tr>\n",
       "      <th>15057</th>\n",
       "      <td>ЯСАКАЧИНМАЙ</td>\n",
       "      <td>ЯСАКАЧИНМАЙ 1) забота, уход, беспокойство, наб...</td>\n",
       "      <td>ясакачин-</td>\n",
       "      <td>забота</td>\n",
       "    </tr>\n",
       "  </tbody>\n",
       "</table>\n",
       "<p>15058 rows × 4 columns</p>\n",
       "</div>"
      ],
      "text/plain": [
       "              word                                           sec_part  \\\n",
       "0             А̄-А  междом., крик при легком испуге, удивлении.  А...   \n",
       "1              АБА  обращ. зап. папа, отец (в языке детей); ср. ам...   \n",
       "2              АБА      АБАЛКАН так говорят дети про что-л. красивое.   \n",
       "3            АБАГА  тотем. 1) дедушка (медведь); 2) зап. дед; ср. ...   \n",
       "4             АБАЛ  мало, нехватка, дешево (о цене); ср. адыкун.  ...   \n",
       "...            ...                                                ...   \n",
       "15053        Я̄НЮЧ        Я̄НЮЧ (совм. п. от мест. я̄к) с кем, с чем.   \n",
       "15054      ЯРИМКАР  ЯРИМКАР камни, образовавшиеся от разрушения скал.   \n",
       "15055      Я̄РУЧИН  Я̄РУЧИН, Я̄РУЧИНМАЙ 1) проверка, осмотр, обсле...   \n",
       "15056   Я̄РУЧИНМАЙ  Я̄РУЧИН, Я̄РУЧИНМАЙ 1) проверка, осмотр, обсле...   \n",
       "15057  ЯСАКАЧИНМАЙ  ЯСАКАЧИНМАЙ 1) забота, уход, беспокойство, наб...   \n",
       "\n",
       "            base    transl  \n",
       "0           а̄-а      крик  \n",
       "1            аба      папа  \n",
       "2            аба       так  \n",
       "3          абага   дедушка  \n",
       "4           абал      мало  \n",
       "...          ...       ...  \n",
       "15053      я̄нюч      совм  \n",
       "15054    яримкар     камни  \n",
       "15055    я̄ручин  проверка  \n",
       "15056   я̄ручин-  проверка  \n",
       "15057  ясакачин-    забота  \n",
       "\n",
       "[15058 rows x 4 columns]"
      ]
     },
     "execution_count": 389,
     "metadata": {},
     "output_type": "execute_result"
    }
   ],
   "source": [
    "df"
   ]
  },
  {
   "cell_type": "code",
   "execution_count": 390,
   "id": "a01ea400",
   "metadata": {},
   "outputs": [],
   "source": [
    "df.to_csv('evendict_bases.csv', sep='±')"
   ]
  }
 ],
 "metadata": {
  "kernelspec": {
   "display_name": "Python 3 (ipykernel)",
   "language": "python",
   "name": "python3"
  },
  "language_info": {
   "codemirror_mode": {
    "name": "ipython",
    "version": 3
   },
   "file_extension": ".py",
   "mimetype": "text/x-python",
   "name": "python",
   "nbconvert_exporter": "python",
   "pygments_lexer": "ipython3",
   "version": "3.9.7"
  }
 },
 "nbformat": 4,
 "nbformat_minor": 5
}
